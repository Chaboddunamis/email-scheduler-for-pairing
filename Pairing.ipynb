{
 "cells": [
  {
   "cell_type": "code",
   "execution_count": 1,
   "metadata": {},
   "outputs": [
    {
     "data": {
      "text/plain": [
       "[(49, 93), (94, 98), (9, 27), (47, 56), (4, 62)]"
      ]
     },
     "execution_count": 1,
     "metadata": {},
     "output_type": "execute_result"
    }
   ],
   "source": [
    "from itertools import combinations\n",
    "from random import sample\n",
    "\n",
    "n = 100\n",
    "sample(list(combinations(range(1,n),2)),5)"
   ]
  },
  {
   "cell_type": "code",
   "execution_count": 2,
   "metadata": {},
   "outputs": [],
   "source": [
    "List = ['Henry', 'Mary', 'Jane', 'Max', 'Emeka', 'Junior', 'Chris', 'Joel']"
   ]
  },
  {
   "cell_type": "code",
   "execution_count": 4,
   "metadata": {},
   "outputs": [
    {
     "name": "stdout",
     "output_type": "stream",
     "text": [
      "<itertools.combinations object at 0x103831728>\n"
     ]
    }
   ],
   "source": [
    "combinations(List, 1)"
   ]
  },
  {
   "cell_type": "code",
   "execution_count": 7,
   "metadata": {},
   "outputs": [],
   "source": [
    "combo = list(combinations(List, 2))"
   ]
  },
  {
   "cell_type": "code",
   "execution_count": 8,
   "metadata": {},
   "outputs": [
    {
     "data": {
      "text/plain": [
       "[('Henry', 'Mary'),\n",
       " ('Henry', 'Jane'),\n",
       " ('Henry', 'Max'),\n",
       " ('Henry', 'Emeka'),\n",
       " ('Henry', 'Junior'),\n",
       " ('Henry', 'Chris'),\n",
       " ('Henry', 'Joel'),\n",
       " ('Mary', 'Jane'),\n",
       " ('Mary', 'Max'),\n",
       " ('Mary', 'Emeka'),\n",
       " ('Mary', 'Junior'),\n",
       " ('Mary', 'Chris'),\n",
       " ('Mary', 'Joel'),\n",
       " ('Jane', 'Max'),\n",
       " ('Jane', 'Emeka'),\n",
       " ('Jane', 'Junior'),\n",
       " ('Jane', 'Chris'),\n",
       " ('Jane', 'Joel'),\n",
       " ('Max', 'Emeka'),\n",
       " ('Max', 'Junior'),\n",
       " ('Max', 'Chris'),\n",
       " ('Max', 'Joel'),\n",
       " ('Emeka', 'Junior'),\n",
       " ('Emeka', 'Chris'),\n",
       " ('Emeka', 'Joel'),\n",
       " ('Junior', 'Chris'),\n",
       " ('Junior', 'Joel'),\n",
       " ('Chris', 'Joel')]"
      ]
     },
     "execution_count": 8,
     "metadata": {},
     "output_type": "execute_result"
    }
   ],
   "source": [
    "combo"
   ]
  },
  {
   "cell_type": "code",
   "execution_count": null,
   "metadata": {},
   "outputs": [],
   "source": [
    "step_one = []\n",
    "step_two = []\n",
    "step_three = []\n",
    "step_four = []\n",
    "step_five = []\n",
    "step_six = []\n",
    "step_seven = []\n",
    "\n",
    "time = 1\n",
    "while time < 8:\n",
    "    for pair in combo:\n",
    "        for i in range(len(combo)):\n",
    "            step_one.append()"
   ]
  },
  {
   "cell_type": "code",
   "execution_count": 16,
   "metadata": {},
   "outputs": [],
   "source": [
    "import random \n",
    "import itertools \n",
    " \n",
    "def get_pairs(numbers): \n",
    "    pairs = list(itertools.combinations(numbers, 2))\n",
    "    return pairs"
   ]
  },
  {
   "cell_type": "code",
   "execution_count": 18,
   "metadata": {},
   "outputs": [],
   "source": [
    "all_pairs = get_pairs(List)"
   ]
  },
  {
   "cell_type": "code",
   "execution_count": 21,
   "metadata": {},
   "outputs": [],
   "source": [
    "comb = []\n",
    "for n in range(0,len(List)+1):\n",
    "    comb.append([i for i in combinations(List,n)])\n"
   ]
  },
  {
   "cell_type": "code",
   "execution_count": 22,
   "metadata": {},
   "outputs": [
    {
     "data": {
      "text/plain": [
       "[('Henry', 'Mary'),\n",
       " ('Henry', 'Jane'),\n",
       " ('Henry', 'Max'),\n",
       " ('Henry', 'Emeka'),\n",
       " ('Henry', 'Junior'),\n",
       " ('Henry', 'Chris'),\n",
       " ('Henry', 'Joel'),\n",
       " ('Mary', 'Jane'),\n",
       " ('Mary', 'Max'),\n",
       " ('Mary', 'Emeka'),\n",
       " ('Mary', 'Junior'),\n",
       " ('Mary', 'Chris'),\n",
       " ('Mary', 'Joel'),\n",
       " ('Jane', 'Max'),\n",
       " ('Jane', 'Emeka'),\n",
       " ('Jane', 'Junior'),\n",
       " ('Jane', 'Chris'),\n",
       " ('Jane', 'Joel'),\n",
       " ('Max', 'Emeka'),\n",
       " ('Max', 'Junior'),\n",
       " ('Max', 'Chris'),\n",
       " ('Max', 'Joel'),\n",
       " ('Emeka', 'Junior'),\n",
       " ('Emeka', 'Chris'),\n",
       " ('Emeka', 'Joel'),\n",
       " ('Junior', 'Chris'),\n",
       " ('Junior', 'Joel'),\n",
       " ('Chris', 'Joel')]"
      ]
     },
     "execution_count": 22,
     "metadata": {},
     "output_type": "execute_result"
    }
   ],
   "source": [
    "all_pairs"
   ]
  },
  {
   "cell_type": "code",
   "execution_count": 87,
   "metadata": {},
   "outputs": [],
   "source": [
    "step_one = [] # 0, 13, 22, 27\n",
    "step_two = []\n",
    "step_three = []\n",
    "step_four = []\n",
    "step_five = []\n",
    "step_six = []\n",
    "step_seven = []\n",
    "\n"
   ]
  },
  {
   "cell_type": "code",
   "execution_count": 88,
   "metadata": {},
   "outputs": [
    {
     "data": {
      "text/plain": [
       "[('Henry', 'Mary'),\n",
       " ('Henry', 'Jane'),\n",
       " ('Henry', 'Max'),\n",
       " ('Henry', 'Emeka'),\n",
       " ('Henry', 'Junior'),\n",
       " ('Henry', 'Chris'),\n",
       " ('Henry', 'Joel'),\n",
       " ('Mary', 'Jane'),\n",
       " ('Mary', 'Max'),\n",
       " ('Mary', 'Emeka'),\n",
       " ('Mary', 'Junior'),\n",
       " ('Mary', 'Chris'),\n",
       " ('Mary', 'Joel'),\n",
       " ('Jane', 'Max'),\n",
       " ('Jane', 'Emeka'),\n",
       " ('Jane', 'Junior'),\n",
       " ('Jane', 'Chris'),\n",
       " ('Jane', 'Joel'),\n",
       " ('Max', 'Emeka'),\n",
       " ('Max', 'Junior'),\n",
       " ('Max', 'Chris'),\n",
       " ('Max', 'Joel'),\n",
       " ('Emeka', 'Junior'),\n",
       " ('Emeka', 'Chris'),\n",
       " ('Emeka', 'Joel'),\n",
       " ('Junior', 'Chris'),\n",
       " ('Junior', 'Joel'),\n",
       " ('Chris', 'Joel')]"
      ]
     },
     "execution_count": 88,
     "metadata": {},
     "output_type": "execute_result"
    }
   ],
   "source": [
    "combo"
   ]
  },
  {
   "cell_type": "code",
   "execution_count": 89,
   "metadata": {},
   "outputs": [
    {
     "data": {
      "text/plain": [
       "[]"
      ]
     },
     "execution_count": 89,
     "metadata": {},
     "output_type": "execute_result"
    }
   ],
   "source": [
    "step_one"
   ]
  },
  {
   "cell_type": "code",
   "execution_count": 92,
   "metadata": {},
   "outputs": [],
   "source": [
    "\n",
    "step_one.append(combo[13])\n",
    "step_one.append(combo[22])\n",
    "step_one.append(combo[27])"
   ]
  },
  {
   "cell_type": "code",
   "execution_count": 93,
   "metadata": {},
   "outputs": [
    {
     "data": {
      "text/plain": [
       "[('Henry', 'Mary'), ('Jane', 'Emeka'), ('Emeka', 'Chris'), ('Chris', 'Joel')]"
      ]
     },
     "execution_count": 93,
     "metadata": {},
     "output_type": "execute_result"
    }
   ],
   "source": [
    "step_one"
   ]
  },
  {
   "cell_type": "code",
   "execution_count": 95,
   "metadata": {},
   "outputs": [
    {
     "data": {
      "text/plain": [
       "('Jane', 'Emeka')"
      ]
     },
     "execution_count": 95,
     "metadata": {},
     "output_type": "execute_result"
    }
   ],
   "source": [
    "step_one.pop(1)"
   ]
  },
  {
   "cell_type": "code",
   "execution_count": 97,
   "metadata": {},
   "outputs": [],
   "source": [
    "step_one.append(combo[13])\n",
    "step_one.append(combo[22])"
   ]
  },
  {
   "cell_type": "code",
   "execution_count": 98,
   "metadata": {},
   "outputs": [
    {
     "data": {
      "text/plain": [
       "[('Henry', 'Mary'), ('Chris', 'Joel'), ('Jane', 'Max'), ('Emeka', 'Junior')]"
      ]
     },
     "execution_count": 98,
     "metadata": {},
     "output_type": "execute_result"
    }
   ],
   "source": [
    "step_one"
   ]
  },
  {
   "cell_type": "code",
   "execution_count": null,
   "metadata": {},
   "outputs": [],
   "source": [
    "step_two.append(combo[1])\n",
    "step_two.append(combo[7])\n",
    "step_two.append(combo[25])\n",
    "step_two.append(combo[26])"
   ]
  },
  {
   "cell_type": "code",
   "execution_count": 99,
   "metadata": {},
   "outputs": [
    {
     "data": {
      "text/plain": [
       "[('Henry', 'Mary'),\n",
       " ('Henry', 'Jane'),\n",
       " ('Henry', 'Max'),\n",
       " ('Henry', 'Emeka'),\n",
       " ('Henry', 'Junior'),\n",
       " ('Henry', 'Chris'),\n",
       " ('Henry', 'Joel'),\n",
       " ('Mary', 'Jane'),\n",
       " ('Mary', 'Max'),\n",
       " ('Mary', 'Emeka'),\n",
       " ('Mary', 'Junior'),\n",
       " ('Mary', 'Chris'),\n",
       " ('Mary', 'Joel'),\n",
       " ('Jane', 'Max'),\n",
       " ('Jane', 'Emeka'),\n",
       " ('Jane', 'Junior'),\n",
       " ('Jane', 'Chris'),\n",
       " ('Jane', 'Joel'),\n",
       " ('Max', 'Emeka'),\n",
       " ('Max', 'Junior'),\n",
       " ('Max', 'Chris'),\n",
       " ('Max', 'Joel'),\n",
       " ('Emeka', 'Junior'),\n",
       " ('Emeka', 'Chris'),\n",
       " ('Emeka', 'Joel'),\n",
       " ('Junior', 'Chris'),\n",
       " ('Junior', 'Joel'),\n",
       " ('Chris', 'Joel')]"
      ]
     },
     "execution_count": 99,
     "metadata": {},
     "output_type": "execute_result"
    }
   ],
   "source": [
    "combo"
   ]
  },
  {
   "cell_type": "code",
   "execution_count": 115,
   "metadata": {},
   "outputs": [
    {
     "data": {
      "text/plain": [
       "[[('Henry', 'Joel'), ('Mary', 'Chris'), ('Jane', 'Junior'), ('Max', 'Emeka')],\n",
       " [('Henry', 'Chris'), ('Joel', 'Junior'), ('Mary', 'Emeka'), ('Jane', 'Max')],\n",
       " [('Henry', 'Junior'), ('Chris', 'Emeka'), ('Joel', 'Max'), ('Mary', 'Jane')],\n",
       " [('Henry', 'Emeka'), ('Junior', 'Max'), ('Chris', 'Jane'), ('Joel', 'Mary')],\n",
       " [('Henry', 'Max'), ('Emeka', 'Jane'), ('Junior', 'Mary'), ('Chris', 'Joel')],\n",
       " [('Henry', 'Jane'), ('Max', 'Mary'), ('Emeka', 'Joel'), ('Junior', 'Chris')],\n",
       " [('Henry', 'Mary'), ('Jane', 'Joel'), ('Max', 'Chris'), ('Emeka', 'Junior')]]"
      ]
     },
     "execution_count": 115,
     "metadata": {},
     "output_type": "execute_result"
    }
   ],
   "source": [
    "teams = [1,2,3,4,5,6]\n",
    "n = int(len(List) / 2)\n",
    "\n",
    "stages = []\n",
    "for i in range(len(List) - 1):\n",
    "    t = List[:1] + List[-i:] + List[1:-i] if i else List\n",
    "    stages.append(list(zip(t[:n], reversed(t[n:]))))\n",
    "\n",
    "stages"
   ]
  },
  {
   "cell_type": "code",
   "execution_count": 137,
   "metadata": {},
   "outputs": [
    {
     "data": {
      "text/plain": [
       "'Henry'"
      ]
     },
     "execution_count": 137,
     "metadata": {},
     "output_type": "execute_result"
    }
   ],
   "source": [
    "stages[0][0][0]"
   ]
  },
  {
   "cell_type": "code",
   "execution_count": 138,
   "metadata": {},
   "outputs": [
    {
     "data": {
      "text/plain": [
       "[('Henry', 'Chris'), ('Joel', 'Junior'), ('Mary', 'Emeka'), ('Jane', 'Max')]"
      ]
     },
     "execution_count": 138,
     "metadata": {},
     "output_type": "execute_result"
    }
   ],
   "source": [
    "stages[1]"
   ]
  },
  {
   "cell_type": "code",
   "execution_count": 140,
   "metadata": {},
   "outputs": [
    {
     "name": "stdout",
     "output_type": "stream",
     "text": [
      "Henry is praying with Joel\n",
      "Henry is praying with Joel\n",
      "Mary is praying with Chris\n",
      "Mary is praying with Chris\n",
      "Jane is praying with Junior\n",
      "Jane is praying with Junior\n",
      "Max is praying with Emeka\n",
      "Max is praying with Emeka\n",
      "Henry is praying with Chris\n",
      "Henry is praying with Chris\n",
      "Joel is praying with Junior\n",
      "Joel is praying with Junior\n",
      "Mary is praying with Emeka\n",
      "Mary is praying with Emeka\n",
      "Jane is praying with Max\n",
      "Jane is praying with Max\n",
      "Henry is praying with Junior\n",
      "Henry is praying with Junior\n",
      "Chris is praying with Emeka\n",
      "Chris is praying with Emeka\n",
      "Joel is praying with Max\n",
      "Joel is praying with Max\n",
      "Mary is praying with Jane\n",
      "Mary is praying with Jane\n",
      "Henry is praying with Emeka\n",
      "Henry is praying with Emeka\n",
      "Junior is praying with Max\n",
      "Junior is praying with Max\n",
      "Chris is praying with Jane\n",
      "Chris is praying with Jane\n",
      "Joel is praying with Mary\n",
      "Joel is praying with Mary\n",
      "Henry is praying with Max\n",
      "Henry is praying with Max\n",
      "Emeka is praying with Jane\n",
      "Emeka is praying with Jane\n",
      "Junior is praying with Mary\n",
      "Junior is praying with Mary\n",
      "Chris is praying with Joel\n",
      "Chris is praying with Joel\n",
      "Henry is praying with Jane\n",
      "Henry is praying with Jane\n",
      "Max is praying with Mary\n",
      "Max is praying with Mary\n",
      "Emeka is praying with Joel\n",
      "Emeka is praying with Joel\n",
      "Junior is praying with Chris\n",
      "Junior is praying with Chris\n",
      "Henry is praying with Mary\n",
      "Henry is praying with Mary\n",
      "Jane is praying with Joel\n",
      "Jane is praying with Joel\n",
      "Max is praying with Chris\n",
      "Max is praying with Chris\n",
      "Emeka is praying with Junior\n",
      "Emeka is praying with Junior\n"
     ]
    }
   ],
   "source": [
    "for pairs in stages:\n",
    "    for items in pairs:\n",
    "        for k in items:\n",
    "            print(\"{} is praying with {}\".format(items[0],items[1]))"
   ]
  },
  {
   "cell_type": "code",
   "execution_count": 196,
   "metadata": {},
   "outputs": [],
   "source": [
    "Group_1, Group_2, Group_3, Group_4, Group_5, Group_6, Group_7,Group_8, Group_9, Group_10, Group_11 = [],[],[],[],[],[],[],[],[],[],[]"
   ]
  },
  {
   "cell_type": "code",
   "execution_count": 197,
   "metadata": {},
   "outputs": [
    {
     "data": {
      "text/plain": [
       "[]"
      ]
     },
     "execution_count": 197,
     "metadata": {},
     "output_type": "execute_result"
    }
   ],
   "source": [
    "Group_7"
   ]
  },
  {
   "cell_type": "code",
   "execution_count": 146,
   "metadata": {},
   "outputs": [
    {
     "ename": "NameError",
     "evalue": "name 'y' is not defined",
     "output_type": "error",
     "traceback": [
      "\u001b[0;31m---------------------------------------------------------------------------\u001b[0m",
      "\u001b[0;31mNameError\u001b[0m                                 Traceback (most recent call last)",
      "\u001b[0;32m<ipython-input-146-d8e275085f95>\u001b[0m in \u001b[0;36m<module>\u001b[0;34m\u001b[0m\n\u001b[0;32m----> 1\u001b[0;31m \u001b[0mGroup_1\u001b[0m\u001b[0;34m.\u001b[0m\u001b[0mappend\u001b[0m\u001b[0;34m(\u001b[0m\u001b[0mprint\u001b[0m\u001b[0;34m(\u001b[0m\u001b[0;34m\"{} is praying with {}\"\u001b[0m\u001b[0;34m.\u001b[0m\u001b[0mformat\u001b[0m\u001b[0;34m(\u001b[0m\u001b[0mx\u001b[0m\u001b[0;34m,\u001b[0m \u001b[0my\u001b[0m\u001b[0;34m)\u001b[0m \u001b[0;32mfor\u001b[0m \u001b[0mx\u001b[0m \u001b[0;32min\u001b[0m \u001b[0mstages\u001b[0m\u001b[0;34m[\u001b[0m\u001b[0;36m0\u001b[0m\u001b[0;34m]\u001b[0m\u001b[0;34m[\u001b[0m\u001b[0;36m0\u001b[0m\u001b[0;34m]\u001b[0m\u001b[0;34m[\u001b[0m\u001b[0;36m0\u001b[0m\u001b[0;34m]\u001b[0m \u001b[0;32mand\u001b[0m \u001b[0my\u001b[0m \u001b[0;32min\u001b[0m \u001b[0mstages\u001b[0m\u001b[0;34m[\u001b[0m\u001b[0;36m1\u001b[0m\u001b[0;34m]\u001b[0m\u001b[0;34m[\u001b[0m\u001b[0;36m1\u001b[0m\u001b[0;34m]\u001b[0m\u001b[0;34m[\u001b[0m\u001b[0;36m1\u001b[0m\u001b[0;34m]\u001b[0m\u001b[0;34m)\u001b[0m\u001b[0;34m)\u001b[0m\u001b[0;34m\u001b[0m\u001b[0;34m\u001b[0m\u001b[0m\n\u001b[0m",
      "\u001b[0;31mNameError\u001b[0m: name 'y' is not defined"
     ]
    }
   ],
   "source": [
    "Group_1.append(print(\"{} is praying with {}\".format(x, y) for x in stages[0][0][0] and y in stages[1][1][1]))"
   ]
  },
  {
   "cell_type": "code",
   "execution_count": 147,
   "metadata": {},
   "outputs": [
    {
     "data": {
      "text/plain": [
       "[('Henry', 'Joel'), ('Mary', 'Chris'), ('Jane', 'Junior'), ('Max', 'Emeka')]"
      ]
     },
     "execution_count": 147,
     "metadata": {},
     "output_type": "execute_result"
    }
   ],
   "source": [
    "x"
   ]
  },
  {
   "cell_type": "code",
   "execution_count": 224,
   "metadata": {},
   "outputs": [],
   "source": [
    "Groups =  [Group_1, Group_2, Group_3, Group_4, Group_5, Group_6]"
   ]
  },
  {
   "cell_type": "code",
   "execution_count": 225,
   "metadata": {},
   "outputs": [
    {
     "data": {
      "text/plain": [
       "[[('Henry', 'Joel'), ('Mary', 'Chris'), ('Jane', 'Junior'), ('Max', 'Emeka')],\n",
       " [('Henry', 'Chris'), ('Joel', 'Junior'), ('Mary', 'Emeka'), ('Jane', 'Max')],\n",
       " [('Henry', 'Junior'), ('Chris', 'Emeka'), ('Joel', 'Max'), ('Mary', 'Jane')],\n",
       " [('Henry', 'Emeka'), ('Junior', 'Max'), ('Chris', 'Jane'), ('Joel', 'Mary')],\n",
       " [('Henry', 'Max'), ('Emeka', 'Jane'), ('Junior', 'Mary'), ('Chris', 'Joel')],\n",
       " [('Henry', 'Jane'), ('Max', 'Mary'), ('Emeka', 'Joel'), ('Junior', 'Chris')],\n",
       " [('Henry', 'Mary'), ('Jane', 'Joel'), ('Max', 'Chris'), ('Emeka', 'Junior')]]"
      ]
     },
     "execution_count": 225,
     "metadata": {},
     "output_type": "execute_result"
    }
   ],
   "source": [
    "stages"
   ]
  },
  {
   "cell_type": "code",
   "execution_count": 168,
   "metadata": {},
   "outputs": [],
   "source": [
    "Num = [1,2,3,4,5,6]\n",
    "\n",
    "n = int(len(Num) / 2)\n",
    "\n",
    "Steps = []\n",
    "for i in range(len(Num) - 1):\n",
    "    t = Num[:1] + Num[-i:] + Num[1:-i] if i else Num\n",
    "    Steps.append(list(zip(t[:n], reversed(t[n:]))))"
   ]
  },
  {
   "cell_type": "code",
   "execution_count": 182,
   "metadata": {},
   "outputs": [
    {
     "data": {
      "text/plain": [
       "[[(1, 6), (2, 5), (3, 4)],\n",
       " [(1, 5), (6, 4), (2, 3)],\n",
       " [(1, 4), (5, 3), (6, 2)],\n",
       " [(1, 3), (4, 2), (5, 6)],\n",
       " [(1, 2), (3, 6), (4, 5)]]"
      ]
     },
     "execution_count": 182,
     "metadata": {},
     "output_type": "execute_result"
    }
   ],
   "source": [
    "Steps"
   ]
  },
  {
   "cell_type": "code",
   "execution_count": 208,
   "metadata": {},
   "outputs": [],
   "source": [
    "day1, day2, day3, day4, day5 = [],[],[],[],[]\n",
    "result = []\n",
    "for step in Steps:\n",
    "    for pair in step:\n",
    "        result.append(\"{} is praying with {}\".format(pair[0], pair[1]))\n",
    "        "
   ]
  },
  {
   "cell_type": "code",
   "execution_count": 210,
   "metadata": {},
   "outputs": [],
   "source": [
    "day1 = result[:3]\n",
    "day2 = result[3:6]\n",
    "day3 = result[6:9]\n",
    "day4 = result[9:12]\n",
    "day5 = result[12:15]"
   ]
  },
  {
   "cell_type": "code",
   "execution_count": 211,
   "metadata": {},
   "outputs": [
    {
     "data": {
      "text/plain": [
       "['1 is praying with 6', '2 is praying with 5', '3 is praying with 4']"
      ]
     },
     "execution_count": 211,
     "metadata": {},
     "output_type": "execute_result"
    }
   ],
   "source": [
    "day1"
   ]
  },
  {
   "cell_type": "code",
   "execution_count": 215,
   "metadata": {},
   "outputs": [
    {
     "data": {
      "text/plain": [
       "['1 is praying with 6',\n",
       " '2 is praying with 5',\n",
       " '3 is praying with 4',\n",
       " '1 is praying with 5',\n",
       " '6 is praying with 4',\n",
       " '2 is praying with 3',\n",
       " '1 is praying with 4',\n",
       " '5 is praying with 3',\n",
       " '6 is praying with 2',\n",
       " '1 is praying with 3',\n",
       " '4 is praying with 2',\n",
       " '5 is praying with 6',\n",
       " '1 is praying with 2',\n",
       " '3 is praying with 6',\n",
       " '4 is praying with 5']"
      ]
     },
     "execution_count": 215,
     "metadata": {},
     "output_type": "execute_result"
    }
   ],
   "source": [
    "result"
   ]
  },
  {
   "cell_type": "code",
   "execution_count": 213,
   "metadata": {},
   "outputs": [],
   "source": [
    "group1, group2, group3, group4, group5 = [],[],[],[],[]\n",
    "groups = [group1, group2, group3, group4, group5]"
   ]
  },
  {
   "cell_type": "code",
   "execution_count": 214,
   "metadata": {},
   "outputs": [
    {
     "data": {
      "text/plain": [
       "5"
      ]
     },
     "execution_count": 214,
     "metadata": {},
     "output_type": "execute_result"
    }
   ],
   "source": [
    "len(groups)"
   ]
  },
  {
   "cell_type": "code",
   "execution_count": 222,
   "metadata": {},
   "outputs": [],
   "source": [
    "output = []\n",
    "for step in Steps:\n",
    "    for pair in step:\n",
    "        output.append(\"{} is praying with {}\".format(pair[0], pair[1]))\n",
    "        for i in range(len(groups)):\n",
    "            groups[i] = output[(i*3):((i*3)+3)]\n",
    "            "
   ]
  },
  {
   "cell_type": "code",
   "execution_count": 223,
   "metadata": {},
   "outputs": [
    {
     "data": {
      "text/plain": [
       "[['1 is praying with 6', '2 is praying with 5', '3 is praying with 4'],\n",
       " ['1 is praying with 5', '6 is praying with 4', '2 is praying with 3'],\n",
       " ['1 is praying with 4', '5 is praying with 3', '6 is praying with 2'],\n",
       " ['1 is praying with 3', '4 is praying with 2', '5 is praying with 6'],\n",
       " ['1 is praying with 2', '3 is praying with 6', '4 is praying with 5']]"
      ]
     },
     "execution_count": 223,
     "metadata": {},
     "output_type": "execute_result"
    }
   ],
   "source": [
    "groups"
   ]
  },
  {
   "cell_type": "code",
   "execution_count": 226,
   "metadata": {},
   "outputs": [],
   "source": [
    "Pairings = []\n",
    "for stage in stages:\n",
    "    for pair in stage:\n",
    "        Pairings.append(\"{} is praying with {}\".format(pair[0], pair[1]))\n",
    "        for i in range(len(Groups)):\n",
    "            Groups[i] = Pairings[(i*3):((i*3)+3)]"
   ]
  },
  {
   "cell_type": "code",
   "execution_count": 227,
   "metadata": {},
   "outputs": [
    {
     "data": {
      "text/plain": [
       "[['Henry is praying with Joel',\n",
       "  'Mary is praying with Chris',\n",
       "  'Jane is praying with Junior'],\n",
       " ['Max is praying with Emeka',\n",
       "  'Henry is praying with Chris',\n",
       "  'Joel is praying with Junior'],\n",
       " ['Mary is praying with Emeka',\n",
       "  'Jane is praying with Max',\n",
       "  'Henry is praying with Junior'],\n",
       " ['Chris is praying with Emeka',\n",
       "  'Joel is praying with Max',\n",
       "  'Mary is praying with Jane'],\n",
       " ['Henry is praying with Emeka',\n",
       "  'Junior is praying with Max',\n",
       "  'Chris is praying with Jane'],\n",
       " ['Joel is praying with Mary',\n",
       "  'Henry is praying with Max',\n",
       "  'Emeka is praying with Jane']]"
      ]
     },
     "execution_count": 227,
     "metadata": {},
     "output_type": "execute_result"
    }
   ],
   "source": [
    "Groups"
   ]
  },
  {
   "cell_type": "code",
   "execution_count": 232,
   "metadata": {},
   "outputs": [
    {
     "data": {
      "text/plain": [
       "[['1 is praying with 6', '2 is praying with 5', '3 is praying with 4'],\n",
       " ['1 is praying with 5', '6 is praying with 4', '2 is praying with 3'],\n",
       " ['1 is praying with 4', '5 is praying with 3', '6 is praying with 2'],\n",
       " ['1 is praying with 3', '4 is praying with 2', '5 is praying with 6'],\n",
       " ['1 is praying with 2', '3 is praying with 6', '4 is praying with 5']]"
      ]
     },
     "execution_count": 232,
     "metadata": {},
     "output_type": "execute_result"
    }
   ],
   "source": [
    "groups"
   ]
  },
  {
   "cell_type": "code",
   "execution_count": 231,
   "metadata": {},
   "outputs": [
    {
     "data": {
      "text/plain": [
       "[]"
      ]
     },
     "execution_count": 231,
     "metadata": {},
     "output_type": "execute_result"
    }
   ],
   "source": [
    "group1"
   ]
  },
  {
   "cell_type": "code",
   "execution_count": null,
   "metadata": {},
   "outputs": [],
   "source": []
  }
 ],
 "metadata": {
  "kernelspec": {
   "display_name": "Python 3.7.3 64-bit",
   "language": "python",
   "name": "python37364bit23009529bb52486dbfbe36271327b29b"
  },
  "language_info": {
   "codemirror_mode": {
    "name": "ipython",
    "version": 3
   },
   "file_extension": ".py",
   "mimetype": "text/x-python",
   "name": "python",
   "nbconvert_exporter": "python",
   "pygments_lexer": "ipython3",
   "version": "3.7.3"
  }
 },
 "nbformat": 4,
 "nbformat_minor": 4
}
